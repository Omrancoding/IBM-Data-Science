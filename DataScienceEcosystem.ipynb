{
 "cells": [
  {
   "cell_type": "markdown",
   "id": "8457e821",
   "metadata": {},
   "source": [
    "# Data Science Tools and Ecosystem"
   ]
  },
  {
   "cell_type": "markdown",
   "id": "2ed2c82c",
   "metadata": {},
   "source": [
    "In this notebook, Data Science Tools and Ecosystem are summarized."
   ]
  },
  {
   "cell_type": "markdown",
   "id": "c9699ef6",
   "metadata": {},
   "source": [
    "**Objectives**:\n",
    "1. Listing some data sceince libraries.\n",
    "2. Solving basic problems.\n",
    "3. Hands on exercise.\n"
   ]
  },
  {
   "cell_type": "markdown",
   "id": "e9d2f8c8",
   "metadata": {},
   "source": [
    "Some of the popular languages that Data Scientists use are: \n",
    "- Python\n",
    "- R\n",
    "- SQL"
   ]
  },
  {
   "cell_type": "markdown",
   "id": "afd0ca32",
   "metadata": {},
   "source": [
    "Some of the commonly used libraries used by Data Scientists include:\n",
    "* Pandas\n",
    "* Seaborn\n",
    "* Numpy"
   ]
  },
  {
   "cell_type": "markdown",
   "id": "6f575753",
   "metadata": {},
   "source": [
    "|Data Science Tools|\n",
    "|------------------|\n",
    "|Jupyter Notebook|\n",
    "|  GitHub  |\n",
    "|  Hadoop  |"
   ]
  },
  {
   "cell_type": "markdown",
   "id": "4a622df7",
   "metadata": {},
   "source": [
    "### Below are a few examples of evaluating arithmetic expressions in Python"
   ]
  },
  {
   "cell_type": "code",
   "execution_count": 4,
   "id": "68efda2c",
   "metadata": {},
   "outputs": [
    {
     "name": "stdout",
     "output_type": "stream",
     "text": [
      "17\n"
     ]
    }
   ],
   "source": [
    "#This a simple arithmetic expression to mutiply then add integers\n",
    "x = (3*4)+5\n",
    "print(x)"
   ]
  },
  {
   "cell_type": "code",
   "execution_count": 5,
   "id": "8433f6b6",
   "metadata": {
    "scrolled": true
   },
   "outputs": [
    {
     "name": "stdout",
     "output_type": "stream",
     "text": [
      "3.3333333333333335\n"
     ]
    }
   ],
   "source": [
    "# This will convert 200 minutes to hours by diving by 60\n",
    "Hours = 200\n",
    "Minutes = Hours/60\n",
    "print(Minutes)"
   ]
  },
  {
   "cell_type": "markdown",
   "id": "67be95d7",
   "metadata": {},
   "source": [
    "## Author\n",
    "--------------\n",
    "Ahmad Omran"
   ]
  },
  {
   "cell_type": "code",
   "execution_count": null,
   "id": "ab8d1691",
   "metadata": {},
   "outputs": [],
   "source": []
  }
 ],
 "metadata": {
  "kernelspec": {
   "display_name": "Python 3 (ipykernel)",
   "language": "python",
   "name": "python3"
  },
  "language_info": {
   "codemirror_mode": {
    "name": "ipython",
    "version": 3
   },
   "file_extension": ".py",
   "mimetype": "text/x-python",
   "name": "python",
   "nbconvert_exporter": "python",
   "pygments_lexer": "ipython3",
   "version": "3.11.5"
  }
 },
 "nbformat": 4,
 "nbformat_minor": 5
}
